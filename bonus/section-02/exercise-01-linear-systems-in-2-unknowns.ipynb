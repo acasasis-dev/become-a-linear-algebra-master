{
 "cells": [
  {
   "cell_type": "markdown",
   "id": "939202aa",
   "metadata": {},
   "source": [
    "## Exercise 1: Linear Systems In Two Unknowns"
   ]
  },
  {
   "cell_type": "markdown",
   "id": "c9702100",
   "metadata": {},
   "source": [
    "> 1. Find the unique solution to the system of equations.\n",
    "\n",
    "\\begin{gather*}\n",
    "    -x + 2y = 6 \\\\\n",
    "    3x = y - 10 \\\\ \\\\\n",
    "\\end{gather*}"
   ]
  },
  {
   "cell_type": "markdown",
   "id": "bf544e28",
   "metadata": {},
   "source": [
    "> 2. Find the unique solution to the system of equations.\n",
    "\n",
    "\\begin{gather*}\n",
    "    -5x + y = 8 \\\\\n",
    "    y = 3x - 8 \\\\ \\\\\n",
    "\\end{gather*}"
   ]
  },
  {
   "cell_type": "markdown",
   "id": "675e27c0",
   "metadata": {},
   "source": [
    "> 3. Find the unique solution to the system of equations.\n",
    "\n",
    "\\begin{gather*}\n",
    "    2x - y = 5 \\\\\n",
    "    -3x + y = 7 \\\\ \\\\\n",
    "\\end{gather*}"
   ]
  },
  {
   "cell_type": "markdown",
   "id": "74a9a237",
   "metadata": {},
   "source": [
    "> 4. Find the unique solution to the system of equations.\n",
    "\n",
    "\\begin{gather*}\n",
    "    x = 2y - 5 \\\\\n",
    "    -3x + 6y = 15 \\\\ \\\\\n",
    "\\end{gather*}"
   ]
  },
  {
   "cell_type": "markdown",
   "id": "afd1e8c2",
   "metadata": {},
   "source": [
    "> 5. Find the unique solution to the system of equations using the graphing method.\n",
    "\n",
    "\\begin{gather*}\n",
    "    y - 2 = -(x + 1) \\\\\n",
    "    y = x + 1 \\\\ \\\\\n",
    "\\end{gather*}"
   ]
  },
  {
   "cell_type": "markdown",
   "id": "5981dc57",
   "metadata": {},
   "source": [
    "> 6. Find the unique solution to the system of equations using the substitution method.\n",
    "\n",
    "\\begin{gather*}\n",
    "    5y + x = 4 \\\\\n",
    "    3y - 3x = 6 \\\\ \\\\\n",
    "\\end{gather*}"
   ]
  }
 ],
 "metadata": {
  "language_info": {
   "name": "python"
  }
 },
 "nbformat": 4,
 "nbformat_minor": 5
}
