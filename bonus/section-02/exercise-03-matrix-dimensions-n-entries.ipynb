{
 "cells": [
  {
   "cell_type": "markdown",
   "id": "23dd9af0",
   "metadata": {},
   "source": [
    "## Exercise 3: Matrix Dimensions and Entries"
   ]
  },
  {
   "cell_type": "markdown",
   "id": "8f1ea389",
   "metadata": {},
   "source": [
    "> 1. Give the dimensions of the matrix.\n",
    "\n",
    "\\begin{equation*}\n",
    "    D = \n",
    "    \\left[\n",
    "        \\begin{array}{cc}\n",
    "            11 & 9 \\\\\n",
    "            -4 & 8\n",
    "        \\end{array}\n",
    "    \\right]\n",
    "\\end{equation*}"
   ]
  },
  {
   "cell_type": "markdown",
   "id": "6295d8e6",
   "metadata": {},
   "source": [
    "> 2. Give the dimensions of the matrix.\n",
    "\n",
    "\\begin{equation*}\n",
    "    A = \n",
    "    \\left[\n",
    "        \\begin{array}{c}\n",
    "            3 & 5 & -2 & 1 & 8\n",
    "        \\end{array}\n",
    "    \\right]\n",
    "\\end{equation*}"
   ]
  },
  {
   "cell_type": "markdown",
   "id": "d58b5b28",
   "metadata": {},
   "source": [
    "> 3. Given matrix $J$, find $J_{4,1}$.\n",
    "\n",
    "\\begin{equation*}\n",
    "    J = \n",
    "    \\left[\n",
    "        \\begin{array}{c}\n",
    "            6 \\\\\n",
    "            2 \\\\\n",
    "            7 \\\\\n",
    "            1\n",
    "        \\end{array}\n",
    "    \\right]\n",
    "\\end{equation*}"
   ]
  },
  {
   "cell_type": "markdown",
   "id": "a4d4a2ab",
   "metadata": {},
   "source": [
    "> 4. Given matrix $C$, find $C_{1,2}$.\n",
    "\n",
    "\\begin{equation*}\n",
    "    C = \n",
    "    \\left[\n",
    "        \\begin{array}{cc}\n",
    "            3 & 12 \\\\\n",
    "            1 & 4 \\\\\n",
    "            9 & 5 \\\\\n",
    "            -3 & 2\n",
    "        \\end{array}\n",
    "    \\right]\n",
    "\\end{equation*}"
   ]
  },
  {
   "cell_type": "markdown",
   "id": "7c4377a4",
   "metadata": {},
   "source": [
    "> 5. Given matrix $N$, state the dimensions and find $N_{1,3}$.\n",
    "\n",
    "\\begin{equation*}\n",
    "    N = \n",
    "    \\left[\n",
    "        \\begin{array}{ccc}\n",
    "            1 & 5 & 9 \\\\\n",
    "            14 & -8 & 6\n",
    "        \\end{array}\n",
    "    \\right]\n",
    "\\end{equation*}"
   ]
  },
  {
   "cell_type": "markdown",
   "id": "4737721d",
   "metadata": {},
   "source": [
    "> 6. Given matrix $S$, state the dimensions and find $S_{3,4}$.\n",
    "\n",
    "\\begin{equation*}\n",
    "    S = \n",
    "    \\left[\n",
    "        \\begin{array}{cc}\n",
    "            3 & 6 & -7 & 1 & 0 \\\\\n",
    "            0 & 9 & 15 & 3 & 4 \\\\\n",
    "            4 & 0 & 2 & 11 & 8 \\\\\n",
    "            -5 & 8 & 7 & 9 & 2\n",
    "        \\end{array}\n",
    "    \\right]\n",
    "\\end{equation*}"
   ]
  }
 ],
 "metadata": {
  "language_info": {
   "name": "python"
  }
 },
 "nbformat": 4,
 "nbformat_minor": 5
}
