{
 "cells": [
  {
   "cell_type": "markdown",
   "id": "e6296f2f",
   "metadata": {},
   "source": [
    "## Exercise 2: Linear Systems In Three Unknowns"
   ]
  },
  {
   "cell_type": "markdown",
   "id": "747f292e",
   "metadata": {},
   "source": [
    "> 1. Find the unique solution to the system of equations.\n",
    "\n",
    "\\begin{gather*}\n",
    "    2x + y - z = 3 \\\\\n",
    "    x - y + z = 0 \\\\\n",
    "    x - 2y - 3z = 4 \\\\ \n",
    "\\end{gather*}"
   ]
  },
  {
   "cell_type": "markdown",
   "id": "bbba5fa9",
   "metadata": {},
   "source": [
    "> 2. Find the unique solution to the system of equations.\n",
    "\n",
    "\\begin{gather*}\n",
    "    3x + y - z = -2 \\\\\n",
    "    x - 2y + 3z = 23 \\\\\n",
    "    2x + 3y + 2z = 5 \\\\ \n",
    "\\end{gather*}"
   ]
  },
  {
   "cell_type": "markdown",
   "id": "072ba8c0",
   "metadata": {},
   "source": [
    "> 3. Find the unique solution to the system of equations.\n",
    "\n",
    "\\begin{gather*}\n",
    "    5x - 3y + z = -8 \\\\\n",
    "    2x + y - 2z = -6 \\\\\n",
    "    -3x + 2y + 4z = 19 \\\\ \n",
    "\\end{gather*}"
   ]
  },
  {
   "cell_type": "markdown",
   "id": "2f1f62fa",
   "metadata": {},
   "source": [
    "> 4. Find the unique solution to the system of equations.\n",
    "\n",
    "\\begin{gather*}\n",
    "    -2x + 3y - 4z = 10 \\\\\n",
    "    4x + 3y + 2z = 4 \\\\\n",
    "    x - 6y + 4z = -19 \\\\ \n",
    "\\end{gather*}"
   ]
  },
  {
   "cell_type": "markdown",
   "id": "03214b92",
   "metadata": {},
   "source": [
    "> 5. Find the unique solution to the system of equations.\n",
    "\n",
    "\\begin{gather*}\n",
    "    2x - y + z = 9 \\\\\n",
    "    4x - 2y + 2z = 18 \\\\\n",
    "    -2x + y - z = -9 \\\\ \n",
    "\\end{gather*}"
   ]
  },
  {
   "cell_type": "markdown",
   "id": "822168d1",
   "metadata": {},
   "source": [
    "> 6. Find the unique solution to the system of equations.\n",
    "\n",
    "\\begin{gather*}\n",
    "    x + 2y - z = 9 \\\\\n",
    "    3x + y - z = 5 \\\\\n",
    "    -x - 4y + z = 2 \\\\ \n",
    "\\end{gather*}"
   ]
  }
 ],
 "metadata": {
  "language_info": {
   "name": "python"
  }
 },
 "nbformat": 4,
 "nbformat_minor": 5
}
