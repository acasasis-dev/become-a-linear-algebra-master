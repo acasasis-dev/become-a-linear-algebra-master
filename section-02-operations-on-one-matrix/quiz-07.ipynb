{
 "cells": [
  {
   "cell_type": "markdown",
   "id": "c4ec28e3",
   "metadata": {},
   "source": [
    "## Quiz 7: Gauss-Jordan Elimination"
   ]
  },
  {
   "cell_type": "markdown",
   "id": "ee134997",
   "metadata": {},
   "source": [
    "> 1. Use Gauss-Jordan elimination to solve the system with a rref matrix.\n",
    "\n",
    "\\begin{gather*}\n",
    "    x + 3y = 13 \\\\\n",
    "    2x + 4y = 16 \\\\ \\\\\n",
    "\\end{gather*}"
   ]
  },
  {
   "cell_type": "markdown",
   "id": "3cfa119a",
   "metadata": {},
   "source": [
    "> 2. Use Gauss-Jordan elimination to solve the system with a rref matrix.\n",
    "\n",
    "\\begin{gather*}\n",
    "    x + 4z = 11 \\\\\n",
    "    x - y + 4z = 6 \\\\\n",
    "    2x + 9z = 25 \\\\ \\\\\n",
    "\\end{gather*}"
   ]
  },
  {
   "cell_type": "markdown",
   "id": "e907974c",
   "metadata": {},
   "source": [
    "> 3. Use Gauss-Jordan elimination to solve the system with a rref matrix.\n",
    "\n",
    "\\begin{gather*}\n",
    "    2x + 4y + 10z = 30 \\\\\n",
    "    x + y + 3z = 10 \\\\ \n",
    "    2x + y + 2z = 9 \\\\ \\\\\n",
    "\\end{gather*}"
   ]
  }
 ],
 "metadata": {
  "language_info": {
   "name": "python"
  }
 },
 "nbformat": 4,
 "nbformat_minor": 5
}
