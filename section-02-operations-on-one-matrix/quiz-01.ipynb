{
 "cells": [
  {
   "cell_type": "markdown",
   "id": "1925e6b6",
   "metadata": {},
   "source": [
    "## Quiz 1: Linear Systems in Two Unknowns"
   ]
  },
  {
   "cell_type": "markdown",
   "id": "5e8619f5",
   "metadata": {},
   "source": [
    "> 1. Use **substitution** to find the unique solution to the linear system.\n",
    "\n",
    "\\begin{gather*}\n",
    "    y = x + 7 \\\\\n",
    "    x + 2y = -16 \\\\ \\\\\n",
    "\n",
    "    x + 2(x + 7) = -16 \\\\\n",
    "    x + 2x + 14 = -16 \\\\\n",
    "    3x = -16 - 14 \\\\\n",
    "    3x = -30 \\\\\n",
    "    \\frac{3x = -30}{3} \\\\\n",
    "    \\boxed{x = -10} \\\\ \\\\\n",
    "\n",
    "    -10 + 2y = -16 \\\\\n",
    "    2y = -16 + 10 \\\\\n",
    "    2y = -6 \\\\\n",
    "    \\frac{2y = -6}{2} \\\\\n",
    "    \\boxed{y = -3} \\\\ \\\\\n",
    "\n",
    "    (-10) + 2(-3) = -16 \\\\\n",
    "    -10 - 6 = -16 \\\\\n",
    "    \\boxed{-16 = -16}\n",
    "\\end{gather*}"
   ]
  },
  {
   "cell_type": "markdown",
   "id": "c640fa80",
   "metadata": {},
   "source": [
    "> 2. Use **elimination** to find the unique solution to the system of equations.\n",
    "\n",
    "\\begin{gather*}\n",
    "    x - 3y = -7 \\\\\n",
    "    2x - 3y = 4 \\\\ \\\\\n",
    "\n",
    "    2(x - 3y = -7) \\\\\n",
    "    - \\ 2x - 3y = 4 \\\\ \\\\\n",
    "    2x - 6y = -14 \\\\\n",
    "    - \\ 2x - 3y = 4 \\\\ \\\\\n",
    "    -3y = -18 \\\\\n",
    "    \\frac{-3y = -18}{-3} \\\\\n",
    "    \\boxed{y = 6} \\\\ \\\\\n",
    "\n",
    "    x - 3(6) = -7 \\\\\n",
    "    x - 18 = -7 \\\\\n",
    "    x = 18 - 7 \\\\\n",
    "    \\boxed{x = 11} \\\\ \\\\\n",
    "\n",
    "    (11) - 3(6) = -7 \\\\ \n",
    "    11 - 18 = -7 \\\\\n",
    "    \\boxed{-7 = -7}\n",
    "\\end{gather*}"
   ]
  },
  {
   "cell_type": "markdown",
   "id": "13ffa248",
   "metadata": {},
   "source": [
    "> 3. **ANSWER: C**\n",
    "\n",
    "<img src=\"https://img-c.udemycdn.com/redactor/raw/2019-06-16_14-15-54-a0321f12d8e790cf4718282a71c5855f.png\" alt=\"Alt Text\" width=\"500\" height=\"450\">\n",
    "\n",
    "\\begin{gather*}\n",
    "    4x - y = -3 \\\\\n",
    "    4x + 3 = y \\\\\n",
    "    \\boxed{y = 4x + 3} \\\\ \\\\\n",
    "\n",
    "    x + y = -2 \\\\\n",
    "    \\boxed{y = -x - 2} \\\\\n",
    "\\end{gather*}"
   ]
  }
 ],
 "metadata": {
  "language_info": {
   "name": "python"
  }
 },
 "nbformat": 4,
 "nbformat_minor": 5
}
