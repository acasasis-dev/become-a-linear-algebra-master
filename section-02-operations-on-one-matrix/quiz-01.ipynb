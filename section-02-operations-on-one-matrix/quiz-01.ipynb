{
 "cells": [
  {
   "cell_type": "markdown",
   "id": "1925e6b6",
   "metadata": {},
   "source": [
    "## Quiz 1: Linear Systems in Two Unknowns"
   ]
  },
  {
   "cell_type": "markdown",
   "id": "5e8619f5",
   "metadata": {},
   "source": [
    "> 1. Use **substitution** to find the unique solution to the linear system.\n",
    "\n",
    "\\begin{gather*}\n",
    "    y = x + 7 \\\\\n",
    "    x + 2y = -16\n",
    "\\end{gather*}"
   ]
  },
  {
   "cell_type": "markdown",
   "id": "c640fa80",
   "metadata": {},
   "source": [
    "> 2. Use **elimination** to find the unique solution to the system of equations.\n",
    "\n",
    "\\begin{gather*}\n",
    "    x - 3y = -7 \\\\\n",
    "    2x - 37 = 4\n",
    "\\end{gather*}"
   ]
  },
  {
   "cell_type": "markdown",
   "id": "13ffa248",
   "metadata": {},
   "source": [
    "> 3. "
   ]
  },
  {
   "cell_type": "markdown",
   "id": "67bd1aa7",
   "metadata": {},
   "source": [
    "<img src=\"https://img-c.udemycdn.com/redactor/raw/2019-06-16_14-15-54-a0321f12d8e790cf4718282a71c5855f.png\" alt=\"Alt Text\" width=\"500\" height=\"450\">"
   ]
  }
 ],
 "metadata": {
  "language_info": {
   "name": "python"
  }
 },
 "nbformat": 4,
 "nbformat_minor": 5
}
