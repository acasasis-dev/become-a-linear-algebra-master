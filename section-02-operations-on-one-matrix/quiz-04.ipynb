{
 "cells": [
  {
   "cell_type": "markdown",
   "id": "2739f3d2",
   "metadata": {},
   "source": [
    "## Quiz 4: Representing Systems With Matrices"
   ]
  },
  {
   "cell_type": "markdown",
   "id": "732072f0",
   "metadata": {},
   "source": [
    "> 1. Represent the system with an augmented matrix called $B$.\n",
    "\n",
    "\\begin{gather*}\n",
    "    4x + 2y = 8 \\\\\n",
    "    -2x + 7y = 11 \\\\ \\\\\n",
    "\\end{gather*}"
   ]
  },
  {
   "cell_type": "markdown",
   "id": "f1321069",
   "metadata": {},
   "source": [
    "> 2. Represent the system with an augmented matrix called $G$.\n",
    "\n",
    "\\begin{gather*}\n",
    "    a - 3b + 9c + 6d = 4 \\\\\n",
    "    8a + 6c = 9d + 15 \\\\ \\\\\n",
    "\\end{gather*}"
   ]
  },
  {
   "cell_type": "markdown",
   "id": "e901b0df",
   "metadata": {},
   "source": [
    "> 3. Represent the system with an augmented matrix called $N$.\n",
    "\n",
    "\\begin{gather*}\n",
    "    6a + 4b - c = 9 \\\\\n",
    "    5b = -6a + 7c - 6 \\\\\n",
    "    3c = 14 - 2a \\\\ \\\\\n",
    "\\end{gather*}"
   ]
  }
 ],
 "metadata": {
  "language_info": {
   "name": "python"
  }
 },
 "nbformat": 4,
 "nbformat_minor": 5
}
