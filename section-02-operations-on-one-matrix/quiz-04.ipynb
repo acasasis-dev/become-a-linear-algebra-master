{
 "cells": [
  {
   "cell_type": "markdown",
   "id": "2739f3d2",
   "metadata": {},
   "source": [
    "## Quiz 4: Representing Systems With Matrices"
   ]
  },
  {
   "cell_type": "markdown",
   "id": "732072f0",
   "metadata": {},
   "source": [
    "> 1. Represent the system with an augmented matrix called $B$.\n",
    "\n",
    "\\begin{gather*}\n",
    "    4x + 2y = 8 \\\\\n",
    "    -2x + 7y = 11 \\\\ \\\\\n",
    "\n",
    "    B = \n",
    "    \\begin{equation*}\n",
    "    \\left[\n",
    "    \\begin{array}{cc|c}\n",
    "        4 & 2 & 8 \\\\\n",
    "        -2 & 7 & 11 \\\\\n",
    "    \\end{array}\n",
    "    \\right]\n",
    "    \\end{equation*}\n",
    "\\end{gather*}"
   ]
  },
  {
   "cell_type": "markdown",
   "id": "f1321069",
   "metadata": {},
   "source": [
    "> 2. Represent the system with an augmented matrix called $G$.\n",
    "\n",
    "\\begin{gather*}\n",
    "    a - 3b + 9c + 6d = 4 \\\\\n",
    "    8a + 6c = 9d + 15 \\\\ \\\\\n",
    "\n",
    "    a - 3b + 9c + 6d = 4 \\\\\n",
    "    8a + 0b + 6c - 9d = 15 \\\\ \\\\\n",
    "\n",
    "    G = \n",
    "    \\begin{equation*}\n",
    "        \\left[\n",
    "            \\begin{array}{cccc|c}\n",
    "                1 & -3 & 9 & 6 & 4 \\\\\n",
    "                8 & 0 & 6 & -9 & 15\n",
    "            \\end{array}\n",
    "        \\right]\n",
    "    \\end{equation*}\n",
    "\\end{gather*}"
   ]
  },
  {
   "cell_type": "markdown",
   "id": "e901b0df",
   "metadata": {},
   "source": [
    "> 3. Represent the system with an augmented matrix called $N$.\n",
    "\n",
    "\\begin{gather*}\n",
    "    6a + 4b - c = 9 \\\\\n",
    "    5b = -6a + 7c - 6 \\\\\n",
    "    3c = 14 - 2a \\\\ \\\\\n",
    "\n",
    "    6a + 4b - c = 9 \\\\\n",
    "    6a + 5b - 7c = -6 \\\\\n",
    "    2a + 0b + 3c = 14 \\\\ \\\\\n",
    "\n",
    "    N = \n",
    "    \\begin{equation*}\n",
    "        \\left[\n",
    "            \\begin{array}{ccc|c}\n",
    "                6 & 4 & -1 & 9 \\\\\n",
    "                6 & 5 & -7 & -6 \\\\\n",
    "                2 & 0 & 3 & 14\n",
    "            \\end{array}\n",
    "        \\right]\n",
    "    \\end{equation*}\n",
    "\\end{gather*}"
   ]
  }
 ],
 "metadata": {
  "language_info": {
   "name": "python"
  }
 },
 "nbformat": 4,
 "nbformat_minor": 5
}
