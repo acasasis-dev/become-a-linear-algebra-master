{
 "cells": [
  {
   "cell_type": "markdown",
   "id": "2d40723b",
   "metadata": {},
   "source": [
    "## Quiz 6: Pivot Entries and Row-Echelon Forms"
   ]
  },
  {
   "cell_type": "markdown",
   "id": "937efa27",
   "metadata": {},
   "source": [
    "> 1. Which matrix is in row-echelon form?\n",
    "\n",
    "\\begin{gather*}\n",
    "    A \\ \\begin{bmatrix}\n",
    "        1 & -5 & 0 & 2 \\\\\n",
    "        0 & 0 & 1 & 0 \\\\\n",
    "        0 & 0 & 0 & 1 \\\\\n",
    "        0 & 0 & 0 & 0 \\\\\n",
    "    \\end{bmatrix} \\ \\\n",
    "\n",
    "    B \\ \\begin{bmatrix}\n",
    "        1 & 2 & 0 & 1 \\\\\n",
    "        0 & 0 & 1 & 0 \\\\\n",
    "        0 & 0 & 0 & 3 \\\\\n",
    "        0 & 0 & 0 & 0 \\\\\n",
    "    \\end{bmatrix} \\ \\ \n",
    "\n",
    "    C \\ \\begin{bmatrix}\n",
    "        0 & 1 & 1 & 3 \\\\\n",
    "        0 & 1 & 1 & 0 \\\\\n",
    "        0 & 0 & 0 & 0 \\\\\n",
    "        0 & 0 & 0 & 0 \\\\\n",
    "    \\end{bmatrix} \\ \\ \n",
    "\n",
    "    D \\ \\begin{bmatrix}\n",
    "        1 & 2 & 0 & 1 \\\\\n",
    "        0 & 0 & 0 & 0 \\\\\n",
    "        0 & 1 & 0 & 1 \\\\\n",
    "        0 & 0 & 0 & 0 \\\\\n",
    "    \\end{bmatrix}\n",
    "\\end{gather*}"
   ]
  },
  {
   "cell_type": "markdown",
   "id": "3b5d0505",
   "metadata": {},
   "source": [
    "> 2. Which matrix is in reduced row-echelon form?\n",
    "\n",
    "\\begin{gather*}\n",
    "    A \\ \\begin{bmatrix}\n",
    "        1 & 0 & -2 & 0 \\\\\n",
    "        0 & 1 & 0 & 0 \\\\\n",
    "        0 & 0 & 1 & 0 \\\\\n",
    "        0 & 0 & 0 & 0 \\\\\n",
    "    \\end{bmatrix} \\ \\ \n",
    "\n",
    "    B \\ \\begin{bmatrix}\n",
    "        0 & 1 & 0 & 3 \\\\\n",
    "        0 & 0 & 1 & 0 \\\\\n",
    "        0 & 0 & 0 & 1 \\\\\n",
    "        0 & 0 & 0 & 0 \\\\\n",
    "    \\end{bmatrix} \\ \\ \n",
    "\n",
    "    C \\ \\begin{bmatrix}\n",
    "        1 & -2 & 0 & 5 \\\\\n",
    "        0 & 0 & 1 & 0 \\\\\n",
    "        0 & 0 & 0 & 0 \\\\\n",
    "        0 & 0 & 0 & 0 \\\\\n",
    "    \\end{bmatrix} \\ \\\n",
    "\n",
    "    D \\ \\begin{bmatrix}\n",
    "        1 & -9 & -3 & 0 \\\\\n",
    "        0 & 0 & 0 & 0 \\\\\n",
    "        0 & 0 & 0 & 0 \\\\\n",
    "        0 & 0 & 0 & 1 \\\\\n",
    "    \\end{bmatrix}\n",
    "\\end{gather*}"
   ]
  },
  {
   "cell_type": "markdown",
   "id": "77924426",
   "metadata": {},
   "source": [
    "> 3. What is the reduced row-echelon form of the matrix?\n",
    "\n",
    "\\begin{gather*}\n",
    "    \\begin{bmatrix}\n",
    "        3 & 9 & 15 & 96 \\\\\n",
    "        -4 & -12 & -18 & -118\n",
    "    \\end{bmatrix}\n",
    "\\end{gather*}"
   ]
  }
 ],
 "metadata": {
  "language_info": {
   "name": "python"
  }
 },
 "nbformat": 4,
 "nbformat_minor": 5
}
