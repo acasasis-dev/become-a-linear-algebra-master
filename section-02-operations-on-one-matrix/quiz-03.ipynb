{
 "cells": [
  {
   "cell_type": "markdown",
   "id": "206e9cc9",
   "metadata": {},
   "source": [
    "## Quiz 3: Matrix Dimensions and Entries"
   ]
  },
  {
   "cell_type": "markdown",
   "id": "309ca60a",
   "metadata": {},
   "source": [
    "> 1. Give the dimensions of the matrix.\n",
    "\n",
    "\\begin{gather*}\n",
    "    K = \\begin{bmatrix}\n",
    "        1 & 0 & -1 & 3 \\\\\n",
    "        2 & 5 & 6 & -2\n",
    "    \\end{bmatrix}\n",
    "\\end{gather*}"
   ]
  },
  {
   "cell_type": "markdown",
   "id": "ba038953",
   "metadata": {},
   "source": [
    "> 2. Given the matrix $B$, find $b_{2,1}$.\n",
    "\n",
    "\\begin{gather*}\n",
    "    B = \\begin{bmatrix}\n",
    "        1 & 3 \\\\\n",
    "        0 & -1\n",
    "    \\end{bmatrix}\n",
    "\\end{gather*}"
   ]
  },
  {
   "cell_type": "markdown",
   "id": "596e1c80",
   "metadata": {},
   "source": [
    "> 3. Give the dimensions of matrix $M$ and find $M_{3,2}$.\n",
    "\n",
    "\\begin{gather*}\n",
    "    M = \\begin{bmatrix}\n",
    "        1 & 3 & 7 \\\\\n",
    "        0 & -1 & 2 \\\\\n",
    "        9 & 4 & 6\n",
    "    \\end{bmatrix}\n",
    "\\end{gather*}"
   ]
  }
 ],
 "metadata": {
  "language_info": {
   "name": "python"
  }
 },
 "nbformat": 4,
 "nbformat_minor": 5
}
