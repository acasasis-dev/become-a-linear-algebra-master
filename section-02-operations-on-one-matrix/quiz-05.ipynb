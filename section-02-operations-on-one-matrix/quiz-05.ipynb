{
 "cells": [
  {
   "cell_type": "markdown",
   "id": "f98038ec",
   "metadata": {},
   "source": [
    "## Quiz 5: Simple Row Operations"
   ]
  },
  {
   "cell_type": "markdown",
   "id": "c16ca655",
   "metadata": {},
   "source": [
    "> 1. Write the new matrix after $R_1 \\leftrightarrow R_2$.\n",
    "\n",
    "\\begin{gather*}\n",
    "    \\begin{bmatrix}\n",
    "        1 & -2 & 5 \\\\\n",
    "        6 & 7 & 0 \\\\\n",
    "        7 & 4 & 9\n",
    "    \\end{bmatrix}\n",
    "\\end{gather*}"
   ]
  },
  {
   "cell_type": "markdown",
   "id": "bae25788",
   "metadata": {},
   "source": [
    "> 2. Write the new matrix after $2R_2 \\leftrightarrow 4R_3$.\n",
    "\n",
    "\\begin{gather*}\n",
    "    \\begin{bmatrix}\n",
    "        6 & 1 & 5 & -8 \\\\\n",
    "        -2 & 3 & 7 & 9 \\\\\n",
    "        5 & -2 & 0 & 1 \\\\\n",
    "    \\end{bmatrix}\n",
    "\\end{gather*}"
   ]
  },
  {
   "cell_type": "markdown",
   "id": "57a72574",
   "metadata": {},
   "source": [
    "> 3. Write the new matrix after $3R_1 + R_3 \\rightarrow R_1$.\n",
    "\n",
    "\\begin{gather*}\n",
    "    \\begin{bmatrix}\n",
    "        7 & 8 & -2 & 0 \\\\\n",
    "        5 & 1 & 6 & 13 \\\\\n",
    "        4 & -7 & 3 & 9 \\\\\n",
    "    \\end{bmatrix}\n",
    "\\end{gather*}"
   ]
  }
 ],
 "metadata": {
  "language_info": {
   "name": "python"
  }
 },
 "nbformat": 4,
 "nbformat_minor": 5
}
