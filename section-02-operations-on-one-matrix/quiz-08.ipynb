{
 "cells": [
  {
   "cell_type": "markdown",
   "id": "e320f5dd",
   "metadata": {},
   "source": [
    "## Quiz 8: Number of Solutions to The Linear System"
   ]
  },
  {
   "cell_type": "markdown",
   "id": "55ce387f",
   "metadata": {},
   "source": [
    "> 1. How many solutions does the following linear system have?\n",
    "\n",
    "\\begin{gather*}\n",
    "    -x - 2y + 3z = -30 \\\\\n",
    "    -2x - 3y - 5z = 22 \\\\\n",
    "    x + 5y + 5z = -11 \\\\ \\\\\n",
    "\\end{gather*}"
   ]
  },
  {
   "cell_type": "markdown",
   "id": "c6505879",
   "metadata": {},
   "source": [
    "> 2. Determine whether the system has one solution, no solutions, or infinitely many solutions.\n",
    "\n",
    "\\begin{gather*}\n",
    "    3a + 9b - 3c = 24 \\\\\n",
    "    a - 3b + 11c = -2 \\\\\n",
    "    -2a + 5b - 20c = -5 \\\\ \\\\\n",
    "\\end{gather*}"
   ]
  },
  {
   "cell_type": "markdown",
   "id": "ae627952",
   "metadata": {},
   "source": [
    "> 3. Determine whether the system has one solution, no solutions, or infinitely many solutions.\n",
    "\n",
    "\\begin{gather*}\n",
    "    w + 2x - 3y + 7z = 4 \\\\\n",
    "    3w - x - 2y = 12 \\\\\n",
    "    -2w + 5x + 2z = 5 \\\\\n",
    "    2w + 3x - 5y + 11z = 8 \\\\ \\\\\n",
    "\\end{gather*}"
   ]
  }
 ],
 "metadata": {
  "language_info": {
   "name": "python"
  }
 },
 "nbformat": 4,
 "nbformat_minor": 5
}
