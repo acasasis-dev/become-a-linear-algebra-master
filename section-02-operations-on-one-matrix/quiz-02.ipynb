{
 "cells": [
  {
   "cell_type": "markdown",
   "id": "ca17bf7f",
   "metadata": {},
   "source": [
    "## Quiz 2: Linear Systems In Three Unknowns"
   ]
  },
  {
   "cell_type": "markdown",
   "id": "4cfa2c00",
   "metadata": {},
   "source": [
    "> 1. Use any method to find the solution to the system of equations.\n",
    "\n",
    "\\begin{gather*}\n",
    "    x + y - z = 4 \\\\\n",
    "    x - y - z = 2 \\\\\n",
    "    x + 2y + z = 1 \\\\ \\\\\n",
    "\\end{gather*}"
   ]
  },
  {
   "cell_type": "markdown",
   "id": "9519f39b",
   "metadata": {},
   "source": [
    "> 2. Use any method to find the solution to the linear system.\n",
    "\n",
    "\\begin{gather*}\n",
    "    x - y + z = -6 \\\\\n",
    "    3x - 4y - z = -4 \\\\\n",
    "    -2x + 3y + 4z = 14 \\\\ \\\\\n",
    "\\end{gather*}"
   ]
  },
  {
   "cell_type": "markdown",
   "id": "699643fa",
   "metadata": {},
   "source": [
    "> 3. Solve the system for $x$, $y$, and $z$.\n",
    "\n",
    "\\begin{gather*}\n",
    "    x + 2z = 3 \\\\\n",
    "    3x - 2y + z = -11 \\\\\n",
    "    2x + y + 3z = 9 \\\\ \\\\\n",
    "\\end{gather*}"
   ]
  }
 ],
 "metadata": {
  "language_info": {
   "name": "python"
  }
 },
 "nbformat": 4,
 "nbformat_minor": 5
}
